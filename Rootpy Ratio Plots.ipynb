{
 "cells": [
  {
   "cell_type": "markdown",
   "metadata": {},
   "source": [
    "# Ratio Plots with root_numpy & rootpy"
   ]
  },
  {
   "cell_type": "markdown",
   "metadata": {},
   "source": [
    "This is a check to see if I can run my stuff with root_numpy and rootpy :P"
   ]
  },
  {
   "cell_type": "markdown",
   "metadata": {},
   "source": [
    "---\n",
    "\n",
    "Start by importing my modules... \n",
    "Numpy, root_numpy, ROOT, rootpy.plotting\n",
    "\n",
    "I don't know man.. just put stuff there..\n",
    "\n",
    "Oh also put style :D"
   ]
  },
  {
   "cell_type": "code",
   "execution_count": 1,
   "metadata": {
    "collapsed": true
   },
   "outputs": [],
   "source": [
    "import numpy as np"
   ]
  },
  {
   "cell_type": "code",
   "execution_count": 2,
   "metadata": {
    "collapsed": true
   },
   "outputs": [],
   "source": [
    "import root_numpy as rtnp"
   ]
  },
  {
   "cell_type": "code",
   "execution_count": 3,
   "metadata": {
    "collapsed": true
   },
   "outputs": [],
   "source": [
    "import ROOT as rt"
   ]
  },
  {
   "cell_type": "code",
   "execution_count": 4,
   "metadata": {
    "collapsed": false
   },
   "outputs": [],
   "source": [
    "from rootpy.plotting import Hist, Hist2D, Canvas, Pad  # for histograms"
   ]
  },
  {
   "cell_type": "code",
   "execution_count": 5,
   "metadata": {
    "collapsed": true
   },
   "outputs": [],
   "source": [
    "from rootpy.io import root_open"
   ]
  },
  {
   "cell_type": "code",
   "execution_count": 6,
   "metadata": {
    "collapsed": true
   },
   "outputs": [],
   "source": [
    "from hsg3_style import *"
   ]
  },
  {
   "cell_type": "markdown",
   "metadata": {},
   "source": [
    "---\n",
    "\n",
    "Open my file with root_open (rootpy.io)\n",
    "\n"
   ]
  },
  {
   "cell_type": "code",
   "execution_count": 7,
   "metadata": {
    "collapsed": false
   },
   "outputs": [],
   "source": [
    "infile = root_open('vbf125spin2pmin.root','read')"
   ]
  },
  {
   "cell_type": "markdown",
   "metadata": {},
   "source": [
    "----\n",
    "\n",
    "Let's make it simple for newbs... now get the tree...\n",
    "\n",
    "---\n"
   ]
  },
  {
   "cell_type": "code",
   "execution_count": 8,
   "metadata": {
    "collapsed": true
   },
   "outputs": [],
   "source": [
    "intree = infile.MVATree"
   ]
  },
  {
   "cell_type": "code",
   "execution_count": 9,
   "metadata": {
    "collapsed": false
   },
   "outputs": [
    {
     "data": {
      "text/plain": [
       "Tree('MVATree')"
      ]
     },
     "execution_count": 9,
     "metadata": {},
     "output_type": "execute_result"
    }
   ],
   "source": [
    "intree"
   ]
  },
  {
   "cell_type": "markdown",
   "metadata": {},
   "source": [
    "---\n",
    "\n",
    "\n",
    "Now that's why I love root_numpy...\n",
    "\n",
    "Dump the whole tree into a structured numpy array!!!\n",
    "\n",
    "---"
   ]
  },
  {
   "cell_type": "code",
   "execution_count": 10,
   "metadata": {
    "collapsed": false
   },
   "outputs": [],
   "source": [
    "data = rtnp.tree2array(intree) # SO SIMPLE!"
   ]
  },
  {
   "cell_type": "markdown",
   "metadata": {},
   "source": [
    "---\n",
    "\n",
    "Now I can get one branch by simply doing....\n",
    "\n",
    "---"
   ]
  },
  {
   "cell_type": "code",
   "execution_count": 11,
   "metadata": {
    "collapsed": false
   },
   "outputs": [
    {
     "data": {
      "text/plain": [
       "array([  83006.0546875 ,   27705.55273438,   85706.3203125 ,\n",
       "         51483.35546875,   34970.0703125 ,   18112.34375   ,\n",
       "         36089.0078125 ,   69110.421875  ,   48663.67578125,\n",
       "         36606.26171875,   82781.1171875 ,   82891.5390625 ,\n",
       "         26933.07617188,   23514.26953125,   79589.1015625 ,\n",
       "         73283.375     ,   57630.70703125,   56764.75      ,\n",
       "         54881.94140625,   54761.48828125,   52599.47265625,\n",
       "         56533.2265625 ,   46447.58203125,   51928.734375  ,\n",
       "         38718.99609375,   29393.765625  ,   37856.1875    ,\n",
       "         54143.703125  ,   61532.98046875,   31187.078125  ,\n",
       "         46644.29296875,   69584.0078125 ,   24573.61914062,\n",
       "         47993.171875  ,   73869.3515625 ,   33335.34765625,\n",
       "         35476.8984375 ,   54044.08984375,   74347.8671875 ,\n",
       "         48382.52734375,   35519.76953125,   58710.98828125,\n",
       "         62842.71484375,   83496.0390625 ,   71203.859375  ,\n",
       "         39566.19921875,   46217.01171875,   36541.71484375,\n",
       "         32513.41601562,   58370.6953125 ,   41898.06640625,\n",
       "         44025.9296875 ,  267736.3125    ,  284212.625     ,\n",
       "         54507.52734375,   68162.9296875 ,   86082.84375   ,\n",
       "         50101.48828125,   38836.75      ,   69285.1640625 ,\n",
       "         26026.15234375,   50912.5546875 ,   19573.23828125,\n",
       "         52268.10546875,   70843.1328125 ,   49819.70703125,\n",
       "         47593.23828125,   40136.9921875 ,   78575.421875  ,\n",
       "         55693.0078125 ,   58409.33984375,   57920.69140625,\n",
       "         58200.22265625,   78646.6953125 ,   62420.6796875 ,\n",
       "         79703.0703125 ,   34346.7109375 ,   45676.10546875,\n",
       "         39041.67578125,   97795.6328125 ,   27773.35351562,\n",
       "         69051.21875   ,   32619.91796875,   64427.76171875,\n",
       "         47987.46484375,   38890.0234375 ,   26361.79882812,\n",
       "         38482.1484375 ,  170485.609375  ,   40036.1953125 ,\n",
       "         32932.46875   ,   45798.33203125,   44600.3203125 ,\n",
       "         77168.0078125 ,   72681.796875  ,   39871.1328125 ,\n",
       "         66895.9375    ,   65658.9140625 ,   61453.15625   ,\n",
       "         49871.125     ,   63809.453125  ,   64109.1015625 ,\n",
       "         54744.73828125,   24648.34570312,   72765.7109375 ,\n",
       "         67248.765625  ,   55613.31640625,   61180.59375   ,\n",
       "         53503.921875  ,   61650.59765625,   52874.46484375,\n",
       "         60734.12890625,   49931.46484375,   70185.140625  ,\n",
       "         56793.203125  ,   62968.125     ,   35079.09375   ,\n",
       "         63776.234375  ,   56063.21484375,   19446.27148438,\n",
       "         46073.734375  ,   48675.43359375,   23474.40429688,\n",
       "         64825.7578125 ,   46571.9765625 ,   25820.72460938,\n",
       "         56842.875     ,   57161.484375  ,   69037.8046875 ,\n",
       "         30745.35546875,   47879.1328125 ,   75483.375     ,\n",
       "         62909.3046875 ,   61927.10546875,   57615.94921875,\n",
       "         80029.296875  ,   44735.53515625,   19521.07617188,\n",
       "         23778.87890625,   34564.390625  ,   31704.70703125,\n",
       "         46700.27734375,   86689.7421875 ,   63866.72265625,\n",
       "         43806.8203125 ,   50820.02734375,   46196.8671875 ,\n",
       "         53426.8203125 ,   64103.015625  ,   69754.78125   ,\n",
       "         24118.60546875,   59707.00390625,   52014.80078125,\n",
       "         70657.921875  ,   75093.2109375 ,   61718.55859375,\n",
       "         58484.41796875,   64738.4765625 ,   25566.56054688,\n",
       "        317379.15625   ,   53084.46484375,   26114.54296875,\n",
       "         78068.59375   ,   70912.5859375 ,   39051.58203125,\n",
       "         61779.62890625,  152340.6875    ,   78082.1484375 ,\n",
       "         28503.61523438,   25308.28710938,   78455.671875  ,\n",
       "         30398.2421875 ,   51965.703125  ,   47435.765625  ,\n",
       "         71828.4140625 ,   38540.51953125,   51021.4375    ,\n",
       "         64463.3984375 ,   45901.3046875 ,   42251.23828125,\n",
       "         31539.16210938,   47105.97265625,   74439.1875    ,\n",
       "         60042.03515625,   78088.28125   ,   68447.90625   ,\n",
       "         50606.33984375,   38487.98046875,   39680.0546875 ,\n",
       "         55440.4375    ,   43296.3984375 ,   51278.90234375,\n",
       "         59936.59765625,   71456.7265625 ,   53679.78125   ,\n",
       "         52118.5078125 ,   63518.25390625,   68335.546875  ,\n",
       "         28338.38671875,   37635.69140625,   54119.01171875,\n",
       "         97668.6328125 ,   50889.3359375 ,   95380.265625  ,\n",
       "         69695.90625   ,   27722.60351562,   74868.0234375 ,\n",
       "         35015.48828125,   33726.8203125 ,   43760.0390625 ,\n",
       "         71673.7421875 ,   28039.06835938,   50552.5078125 ,\n",
       "         26866.50390625,  109191.53125   ,   27862.53125   ,\n",
       "         65211.3203125 ,   77692.40625   ,   51757.953125  ,\n",
       "         67086.125     ,   73476.625     ,   74381.2421875 ,\n",
       "         29221.31640625,   14183.19921875,   54045.03125   ,\n",
       "         45054.01171875,   64350.046875  ,   60691.09765625,\n",
       "         46926.7265625 ,   63347.55078125,   41135.05859375,\n",
       "         50166.44140625,   26098.15429688,   40375.76953125,\n",
       "         69225.9296875 ,   46286.87890625,   27838.28710938,\n",
       "         12274.359375  ,   62850.734375  ,   34187.390625  ,\n",
       "         60855.87109375,   44827.24609375,   33282.0703125 ,\n",
       "         39130.37109375,  492576.78125   ,   20695.55078125,\n",
       "         57949.0390625 ,   72851.8828125 ,  127828.1328125 ,\n",
       "         48753.94140625,   43340.78125   ,   37422.796875  ,\n",
       "         77094.4375    ,   51032.40234375,   72476.7890625 ,\n",
       "         34078.16796875,   58676.50390625,   28133.43164062,\n",
       "         29444.44335938,   50171.4375    ,   64874.37890625,\n",
       "         31753.94335938,   52438.72265625,   35246.44921875,\n",
       "         68853.9375    ,   43192.46875   ,   76736.984375  ,\n",
       "         41921.8125    ,   37767.84375   ,   43773.88671875,\n",
       "         59520.37109375,  292755.5       ,   50915.23828125,\n",
       "         42883.4453125 ,   49052.609375  ,   48207.79296875,\n",
       "         65415.0859375 ,   44108.3203125 ,   83896.015625  ,\n",
       "         61931.91015625,   58029.83203125,   29884.08984375,\n",
       "         57522.8046875 ,   75440.1640625 ,   61072.70703125,\n",
       "        686533.625     ,  107494.4375    ,   52321.2734375 ,\n",
       "         74657.296875  ,   33818.578125  ,   40808.83203125,   73277.171875  ], dtype=float32)"
      ]
     },
     "execution_count": 11,
     "metadata": {},
     "output_type": "execute_result"
    }
   ],
   "source": [
    "data['Mll']"
   ]
  },
  {
   "cell_type": "markdown",
   "metadata": {},
   "source": [
    "--- \n",
    "\n",
    "<b>REMEMBER:</b>\n",
    "If you don't know the name of the tree or branches.. or even structures you can use\n",
    "\n",
    "list_trees(), list_structures(), list_branches()\n",
    "\n",
    "for example....\n"
   ]
  },
  {
   "cell_type": "code",
   "execution_count": 12,
   "metadata": {
    "collapsed": false
   },
   "outputs": [],
   "source": [
    "branches = rtnp.list_branches(\"vbf125spin2pmin.root\")"
   ]
  },
  {
   "cell_type": "code",
   "execution_count": 13,
   "metadata": {
    "collapsed": false
   },
   "outputs": [
    {
     "data": {
      "text/plain": [
       "['EventWeight',\n",
       " 'Mll',\n",
       " 'MT',\n",
       " 'MT_TrackHWW_Clj',\n",
       " 'Mtt',\n",
       " 'Mtt_TrackHWW_Clj',\n",
       " 'Ptll',\n",
       " 'DPhill',\n",
       " 'METRel',\n",
       " 'MET',\n",
       " 'MET_phi',\n",
       " 'METRel_TrackHWW_Clj',\n",
       " 'MET_TrackHWW_Clj',\n",
       " 'MET_phi_TrackHWW_Clj',\n",
       " 'MW0_TrackHWW_Clj',\n",
       " 'MW1_TrackHWW_Clj',\n",
       " 'lepPt0',\n",
       " 'lepPt1',\n",
       " 'lepEta0',\n",
       " 'lepEta1',\n",
       " 'lepPhi0',\n",
       " 'lepPhi1',\n",
       " 'jetPt0',\n",
       " 'jetEta0',\n",
       " 'jetPhi0',\n",
       " 'MinDPhi_TrackHWW_Clj',\n",
       " 'DEtall',\n",
       " 'm_el_n',\n",
       " 'm_mu_n',\n",
       " 'm_jet_n',\n",
       " 'nbt',\n",
       " 'RunNumber',\n",
       " 'EventNumber',\n",
       " 'mc_channel_number',\n",
       " 'mva_weight',\n",
       " 'spin2_mva_weight',\n",
       " 'mcevt_pdf_id1',\n",
       " 'mcevt_pdf_id2',\n",
       " 'mcevt_pdf_x1',\n",
       " 'mcevt_pdf_x2',\n",
       " 'mcevt_pdf_scale',\n",
       " 'MTtruth',\n",
       " 'lepID0',\n",
       " 'lepID1',\n",
       " 'MVAEventWeight',\n",
       " 'pileupEventWeight',\n",
       " 'pileupEventWeight_090',\n",
       " 'pileupEventWeight_080',\n",
       " 'lepTrigSFEventWeight',\n",
       " 'lepTrigSFEventWeightUp',\n",
       " 'lepTrigSFEventWeightDown',\n",
       " 'lepSF0Error',\n",
       " 'lepSF1Error',\n",
       " 'lepSF0ErrorIso',\n",
       " 'lepSF1ErrorIso',\n",
       " 'lepSF0EventWeight',\n",
       " 'lepSF1EventWeight',\n",
       " 'MV120_85_EventWeight',\n",
       " 'MV120_85_CTJetWeight',\n",
       " 'MV120_85_BJetWeight',\n",
       " 'MV120_85_MisTagWeight',\n",
       " 'MV120_85_CTJetWeightUp',\n",
       " 'MV120_85_BJetWeightUp',\n",
       " 'MV120_85_MisTagWeightUp',\n",
       " 'MV120_85_CTJetWeightDown',\n",
       " 'MV120_85_BJetWeightDown',\n",
       " 'MV120_85_MisTagWeightDown',\n",
       " 'isBlinded',\n",
       " 'BDPhill',\n",
       " 'BDPsill',\n",
       " 'BPLeadLep',\n",
       " 'BPSubLeadLep',\n",
       " 'BELeadNeu',\n",
       " 'BESubLeadNeu',\n",
       " 'Esum',\n",
       " 'DPt',\n",
       " 'HPt',\n",
       " 'Efun']"
      ]
     },
     "execution_count": 13,
     "metadata": {},
     "output_type": "execute_result"
    }
   ],
   "source": [
    "branches"
   ]
  },
  {
   "cell_type": "markdown",
   "metadata": {},
   "source": [
    "----\n",
    "\n",
    "Good eh? (''kalo e?'')\n",
    "\n",
    "---\n",
    "\n",
    "Anyways, now we can have the 'Mll' branch out of the tree...\n",
    "\n",
    "Lets make a histogram to store the mll variable"
   ]
  },
  {
   "cell_type": "code",
   "execution_count": 14,
   "metadata": {
    "collapsed": false
   },
   "outputs": [],
   "source": [
    "hist_mll = Hist(10, 0,200, name=\"mll\", title=\"mll;m(ll);Entries/20GeV\")"
   ]
  },
  {
   "cell_type": "code",
   "execution_count": 15,
   "metadata": {
    "collapsed": false
   },
   "outputs": [
    {
     "data": {
      "image/png": "[encoded data removed]",
      "text/plain": [
       "Hist('mll')"
      ]
     },
     "execution_count": 15,
     "metadata": {},
     "output_type": "execute_result"
    }
   ],
   "source": [
    "hist_mll"
   ]
  },
  {
   "cell_type": "markdown",
   "metadata": {},
   "source": [
    "---\n",
    "Let's use the default 'ATLAS' style of roottpy (I dont like it hmm, but to bored to make it myself)"
   ]
  },
  {
   "cell_type": "code",
   "execution_count": 16,
   "metadata": {
    "collapsed": true
   },
   "outputs": [],
   "source": [
    "from rootpy.plotting.style import get_style, set_style"
   ]
  },
  {
   "cell_type": "code",
   "execution_count": 17,
   "metadata": {
    "collapsed": false
   },
   "outputs": [],
   "source": [
    "style = get_hgs3_style()#set_style(#'ATLAS')"
   ]
  },
  {
   "cell_type": "code",
   "execution_count": 18,
   "metadata": {
    "collapsed": true
   },
   "outputs": [],
   "source": [
    "#style.SetLabelOffset(0.4,'y')"
   ]
  },
  {
   "cell_type": "code",
   "execution_count": 19,
   "metadata": {
    "collapsed": false
   },
   "outputs": [
    {
     "name": "stderr",
     "output_type": "stream",
     "text": [
      "INFO:rootpy.plotting.style:using ROOT style ''\n"
     ]
    }
   ],
   "source": [
    "set_style(style)"
   ]
  },
  {
   "cell_type": "markdown",
   "metadata": {},
   "source": [
    "-------\n",
    "\n",
    "Anyways let's fill the histogram..\n",
    "\n",
    "<b> Remember </b> Mll is in [MeV] so simply divide each index by 1000. to get GeV's\n",
    "\n",
    "\n",
    "<b> WEIGHTS: </b> \n",
    "\n",
    "This is Monte Carlo sample. So the events are weighted! The weights are stored in the 'EventWeight' branch.. So simply use it as weights, like this:\n"
   ]
  },
  {
   "cell_type": "code",
   "execution_count": 20,
   "metadata": {
    "collapsed": false
   },
   "outputs": [],
   "source": [
    "rtnp.fill_hist(hist_mll, data['Mll']/1000., weights=data['EventWeight'])"
   ]
  },
  {
   "cell_type": "code",
   "execution_count": 21,
   "metadata": {
    "collapsed": false
   },
   "outputs": [
    {
     "data": {
      "image/png": "[encoded data removed]",
      "text/plain": [
       "Hist('mll')"
      ]
     },
     "execution_count": 21,
     "metadata": {},
     "output_type": "execute_result"
    }
   ],
   "source": [
    "hist_mll"
   ]
  },
  {
   "cell_type": "markdown",
   "metadata": {},
   "source": [
    "----\n",
    "\n",
    "\n",
    "Make a canvas...\n",
    "\n",
    "class rootpy.plotting.Canvas(width=None, height=None, x=None, y=None, name=None, title=None, size_includes_decorations=False)"
   ]
  },
  {
   "cell_type": "code",
   "execution_count": 22,
   "metadata": {
    "collapsed": false
   },
   "outputs": [],
   "source": [
    "canvas = Canvas(800,600,name='c1')"
   ]
  },
  {
   "cell_type": "code",
   "execution_count": 23,
   "metadata": {
    "collapsed": false
   },
   "outputs": [
    {
     "data": {
      "image/png": "[encoded data removed]",
      "text/plain": [
       "Canvas('c1')"
      ]
     },
     "execution_count": 23,
     "metadata": {},
     "output_type": "execute_result"
    }
   ],
   "source": [
    "canvas.cd()"
   ]
  },
  {
   "cell_type": "markdown",
   "metadata": {},
   "source": [
    "Let's make a fake ratio plot"
   ]
  },
  {
   "cell_type": "code",
   "execution_count": 24,
   "metadata": {
    "collapsed": true
   },
   "outputs": [],
   "source": [
    "ratio = hist_mll.Clone()"
   ]
  },
  {
   "cell_type": "code",
   "execution_count": 25,
   "metadata": {
    "collapsed": false
   },
   "outputs": [
    {
     "data": {
      "text/plain": [
       "True"
      ]
     },
     "execution_count": 25,
     "metadata": {},
     "output_type": "execute_result"
    }
   ],
   "source": [
    "ratio.Divide(hist_mll)"
   ]
  },
  {
   "cell_type": "code",
   "execution_count": 26,
   "metadata": {
    "collapsed": false
   },
   "outputs": [],
   "source": [
    "pad_hist = Pad(0,0.3,1,1); set_pad_style(pad_hist); pad_hist.Draw()"
   ]
  },
  {
   "cell_type": "code",
   "execution_count": 27,
   "metadata": {
    "collapsed": false
   },
   "outputs": [],
   "source": [
    "pad_ratio = Pad(0,0,1,0.3); set_subpad_style(pad_ratio); pad_ratio.Draw()"
   ]
  },
  {
   "cell_type": "code",
   "execution_count": 28,
   "metadata": {
    "collapsed": false
   },
   "outputs": [
    {
     "data": {
      "text/plain": [
       "Pad('Pad_z8LrwSJGs3QhrUSK44p66C')"
      ]
     },
     "execution_count": 28,
     "metadata": {},
     "output_type": "execute_result"
    }
   ],
   "source": [
    "pad_hist.cd()"
   ]
  },
  {
   "cell_type": "code",
   "execution_count": 29,
   "metadata": {
    "collapsed": true
   },
   "outputs": [],
   "source": [
    "hist_mll.Draw()"
   ]
  },
  {
   "cell_type": "code",
   "execution_count": 30,
   "metadata": {
    "collapsed": false
   },
   "outputs": [
    {
     "data": {
      "text/plain": [
       "Pad('Pad_i4gYQRgwJGWznh2q5qcELU')"
      ]
     },
     "execution_count": 30,
     "metadata": {},
     "output_type": "execute_result"
    }
   ],
   "source": [
    "pad_ratio.cd()"
   ]
  },
  {
   "cell_type": "code",
   "execution_count": 31,
   "metadata": {
    "collapsed": false
   },
   "outputs": [],
   "source": [
    "ratio.draw('E4')"
   ]
  },
  {
   "cell_type": "code",
   "execution_count": 32,
   "metadata": {
    "collapsed": false
   },
   "outputs": [
    {
     "data": {
      "image/png": "[encoded data removed]",
      "text/plain": [
       "Canvas('c1')"
      ]
     },
     "execution_count": 32,
     "metadata": {},
     "output_type": "execute_result"
    }
   ],
   "source": [
    "canvas"
   ]
  },
  {
   "cell_type": "code",
   "execution_count": null,
   "metadata": {
    "collapsed": true
   },
   "outputs": [],
   "source": []
  },
  {
   "cell_type": "code",
   "execution_count": 33,
   "metadata": {
    "collapsed": false
   },
   "outputs": [
    {
     "data": {
      "image/png": "[encoded data removed]",
      "text/plain": [
       "Canvas('c1')"
      ]
     },
     "execution_count": 33,
     "metadata": {},
     "output_type": "execute_result"
    }
   ],
   "source": [
    "canvas"
   ]
  },
  {
   "cell_type": "code",
   "execution_count": null,
   "metadata": {
    "collapsed": true
   },
   "outputs": [],
   "source": []
  },
  {
   "cell_type": "code",
   "execution_count": null,
   "metadata": {
    "collapsed": true
   },
   "outputs": [],
   "source": []
  }
 ],
 "metadata": {
  "kernelspec": {
   "display_name": "Python 2",
   "language": "python",
   "name": "python2"
  },
  "language_info": {
   "codemirror_mode": {
    "name": "ipython",
    "version": 2
   },
   "file_extension": ".py",
   "mimetype": "text/x-python",
   "name": "python",
   "nbconvert_exporter": "python",
   "pygments_lexer": "ipython2",
   "version": "2.7.10"
  }
 },
 "nbformat": 4,
 "nbformat_minor": 0
}
